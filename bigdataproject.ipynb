{
  "nbformat": 4,
  "nbformat_minor": 0,
  "metadata": {
    "colab": {
      "provenance": [],
      "authorship_tag": "ABX9TyOEY5VVuxc2Q4rBMLENyFHv",
      "include_colab_link": true
    },
    "kernelspec": {
      "name": "python3",
      "display_name": "Python 3"
    },
    "language_info": {
      "name": "python"
    }
  },
  "cells": [
    {
      "cell_type": "markdown",
      "metadata": {
        "id": "view-in-github",
        "colab_type": "text"
      },
      "source": [
        "<a href=\"https://colab.research.google.com/github/Devilaryan007/BigDataProject/blob/main/bigdataproject.ipynb\" target=\"_parent\"><img src=\"https://colab.research.google.com/assets/colab-badge.svg\" alt=\"Open In Colab\"/></a>"
      ]
    },
    {
      "cell_type": "code",
      "execution_count": 39,
      "metadata": {
        "colab": {
          "base_uri": "https://localhost:8080/"
        },
        "id": "qFA4MdSiuEr2",
        "outputId": "3f96bad4-026f-43a1-c883-7c79d0d58335"
      },
      "outputs": [
        {
          "output_type": "stream",
          "name": "stdout",
          "text": [
            "+--------------------+--------------------+------------------------+--------------------+--------------+\n",
            "|         customer_id|  customer_unique_id|customer_zip_code_prefix|       customer_city|customer_state|\n",
            "+--------------------+--------------------+------------------------+--------------------+--------------+\n",
            "|06b8999e2fba1a1fb...|861eff4711a542e4b...|                   14409|              franca|            SP|\n",
            "|18955e83d337fd6b2...|290c77bc529b7ac93...|                   09790|sao bernardo do c...|            SP|\n",
            "|4e7b3e00288586ebd...|060e732b5b29e8181...|                   01151|           sao paulo|            SP|\n",
            "|b2b6027bc5c5109e5...|259dac757896d24d7...|                   08775|     mogi das cruzes|            SP|\n",
            "|4f2d8ab171c80ec83...|345ecd01c38d18a90...|                   13056|            campinas|            SP|\n",
            "|879864dab9bc30475...|4c93744516667ad3b...|                   89254|      jaragua do sul|            SC|\n",
            "|fd826e7cf63160e53...|addec96d2e059c80c...|                   04534|           sao paulo|            SP|\n",
            "|5e274e7a0c3809e14...|57b2a98a409812fe9...|                   35182|             timoteo|            MG|\n",
            "|5adf08e34b2e99398...|1175e95fb47ddff9d...|                   81560|            curitiba|            PR|\n",
            "|4b7139f34592b3a31...|9afe194fb833f79e3...|                   30575|      belo horizonte|            MG|\n",
            "|9fb35e4ed6f0a14a4...|2a7745e1ed516b289...|                   39400|       montes claros|            MG|\n",
            "|5aa9e4fdd4dfd2095...|2a46fb94aef5cbeeb...|                   20231|      rio de janeiro|            RJ|\n",
            "|b2d1536598b73a9ab...|918dc87cd72cd9f6e...|                   18682|    lencois paulista|            SP|\n",
            "|eabebad39a88bb6f5...|295c05e81917928d7...|                   05704|           sao paulo|            SP|\n",
            "|1f1c7bf1c9b041b29...|3151a81801c838636...|                   95110|       caxias do sul|            RS|\n",
            "|206f3129c0e4d7d0b...|21f748a16f4e1688a...|                   13412|          piracicaba|            SP|\n",
            "|a7c125a0a07b75146...|5c2991dbd08bbf3cf...|                   22750|      rio de janeiro|            RJ|\n",
            "|c5c61596a3b6bd0ce...|b6e99561fe6f34a55...|                   07124|           guarulhos|            SP|\n",
            "|9b8ce803689b3562d...|7f3a72e8f988c6e73...|                   05416|           sao paulo|            SP|\n",
            "|49d0ea0986edde72d...|3e6fd6b2f0d499456...|                   68485|              pacaja|            PA|\n",
            "+--------------------+--------------------+------------------------+--------------------+--------------+\n",
            "only showing top 20 rows\n",
            "\n",
            "root\n",
            " |-- customer_id: string (nullable = true)\n",
            " |-- customer_unique_id: string (nullable = true)\n",
            " |-- customer_zip_code_prefix: string (nullable = true)\n",
            " |-- customer_city: string (nullable = true)\n",
            " |-- customer_state: string (nullable = true)\n",
            "\n"
          ]
        }
      ],
      "source": [
        "from pyspark.sql import SparkSession\n",
        "spark = SparkSession.builder.appName(\"ReadCSV\").getOrCreate()\n",
        "df_cust = spark.read.option(\"header\", True).csv(\"/content/sample_data/olist_customers_dataset.csv\")\n",
        "df_cust.show()\n",
        "df_cust.printSchema()\n"
      ]
    },
    {
      "cell_type": "code",
      "source": [
        "df_prod = spark.read.option(\"header\", True).csv(\"/content/sample_data/olist_products_dataset.csv\")\n",
        "df_prod.show(10)"
      ],
      "metadata": {
        "colab": {
          "base_uri": "https://localhost:8080/"
        },
        "id": "Q9kdZETkwgER",
        "outputId": "10e42d9c-30f3-44b2-8c16-dd06b94edafb"
      },
      "execution_count": 44,
      "outputs": [
        {
          "output_type": "stream",
          "name": "stdout",
          "text": [
            "+--------------------+---------------------+-------------------+--------------------------+------------------+----------------+-----------------+-----------------+----------------+\n",
            "|          product_id|product_category_name|product_name_lenght|product_description_lenght|product_photos_qty|product_weight_g|product_length_cm|product_height_cm|product_width_cm|\n",
            "+--------------------+---------------------+-------------------+--------------------------+------------------+----------------+-----------------+-----------------+----------------+\n",
            "|1e9e8ef04dbcff454...|           perfumaria|                 40|                       287|                 1|             225|               16|               10|              14|\n",
            "|3aa071139cb16b67c...|                artes|                 44|                       276|                 1|            1000|               30|               18|              20|\n",
            "|96bd76ec8810374ed...|        esporte_lazer|                 46|                       250|                 1|             154|               18|                9|              15|\n",
            "|cef67bcfe19066a93...|                bebes|                 27|                       261|                 1|             371|               26|                4|              26|\n",
            "|9dc1a7de274444849...| utilidades_domest...|                 37|                       402|                 4|             625|               20|               17|              13|\n",
            "|41d3672d4792049fa...| instrumentos_musi...|                 60|                       745|                 1|             200|               38|                5|              11|\n",
            "|732bd381ad09e530f...|           cool_stuff|                 56|                      1272|                 4|           18350|               70|               24|              44|\n",
            "|2548af3e6e77a690c...|     moveis_decoracao|                 56|                       184|                 2|             900|               40|                8|              40|\n",
            "|37cc742be07708b53...|     eletrodomesticos|                 57|                       163|                 1|             400|               27|               13|              17|\n",
            "|8c92109888e8cdf9d...|           brinquedos|                 36|                      1156|                 1|             600|               17|               10|              12|\n",
            "+--------------------+---------------------+-------------------+--------------------------+------------------+----------------+-----------------+-----------------+----------------+\n",
            "only showing top 10 rows\n",
            "\n"
          ]
        }
      ]
    },
    {
      "cell_type": "code",
      "source": [
        "df_order = spark.read.option(\"header\", True).csv(\"/content/sample_data/olist_orders_dataset.csv\")\n",
        "df_order.show(10)\n",
        "df_order.printSchema()"
      ],
      "metadata": {
        "colab": {
          "base_uri": "https://localhost:8080/"
        },
        "id": "IXkSclUswtYg",
        "outputId": "fcec1c70-85a4-46d8-a6ef-611acab61f7b"
      },
      "execution_count": 48,
      "outputs": [
        {
          "output_type": "stream",
          "name": "stdout",
          "text": [
            "+--------------------+--------------------+------------+------------------------+-------------------+----------------------------+-----------------------------+-----------------------------+\n",
            "|            order_id|         customer_id|order_status|order_purchase_timestamp|  order_approved_at|order_delivered_carrier_date|order_delivered_customer_date|order_estimated_delivery_date|\n",
            "+--------------------+--------------------+------------+------------------------+-------------------+----------------------------+-----------------------------+-----------------------------+\n",
            "|e481f51cbdc54678b...|9ef432eb625129730...|   delivered|     2017-10-02 10:56:33|2017-10-02 11:07:15|         2017-10-04 19:55:00|          2017-10-10 21:25:13|          2017-10-18 00:00:00|\n",
            "|53cdb2fc8bc7dce0b...|b0830fb4747a6c6d2...|   delivered|     2018-07-24 20:41:37|2018-07-26 03:24:27|         2018-07-26 14:31:00|          2018-08-07 15:27:45|          2018-08-13 00:00:00|\n",
            "|47770eb9100c2d0c4...|41ce2a54c0b03bf34...|   delivered|     2018-08-08 08:38:49|2018-08-08 08:55:23|         2018-08-08 13:50:00|          2018-08-17 18:06:29|          2018-09-04 00:00:00|\n",
            "|949d5b44dbf5de918...|f88197465ea7920ad...|   delivered|     2017-11-18 19:28:06|2017-11-18 19:45:59|         2017-11-22 13:39:59|          2017-12-02 00:28:42|          2017-12-15 00:00:00|\n",
            "|ad21c59c0840e6cb8...|8ab97904e6daea886...|   delivered|     2018-02-13 21:18:39|2018-02-13 22:20:29|         2018-02-14 19:46:34|          2018-02-16 18:17:02|          2018-02-26 00:00:00|\n",
            "|a4591c265e18cb1dc...|503740e9ca751ccdd...|   delivered|     2017-07-09 21:57:05|2017-07-09 22:10:13|         2017-07-11 14:58:04|          2017-07-26 10:57:55|          2017-08-01 00:00:00|\n",
            "|136cce7faa42fdb2c...|ed0271e0b7da060a3...|    invoiced|     2017-04-11 12:22:08|2017-04-13 13:25:17|                        NULL|                         NULL|          2017-05-09 00:00:00|\n",
            "|6514b8ad8028c9f2c...|9bdf08b4b3b52b552...|   delivered|     2017-05-16 13:10:30|2017-05-16 13:22:11|         2017-05-22 10:07:46|          2017-05-26 12:55:51|          2017-06-07 00:00:00|\n",
            "|76c6e866289321a7c...|f54a9f0e6b351c431...|   delivered|     2017-01-23 18:29:09|2017-01-25 02:50:47|         2017-01-26 14:16:31|          2017-02-02 14:08:10|          2017-03-06 00:00:00|\n",
            "|e69bfb5eb88e0ed6a...|31ad1d1b63eb99624...|   delivered|     2017-07-29 11:55:02|2017-07-29 12:05:32|         2017-08-10 19:45:24|          2017-08-16 17:14:30|          2017-08-23 00:00:00|\n",
            "+--------------------+--------------------+------------+------------------------+-------------------+----------------------------+-----------------------------+-----------------------------+\n",
            "only showing top 10 rows\n",
            "\n",
            "root\n",
            " |-- order_id: string (nullable = true)\n",
            " |-- customer_id: string (nullable = true)\n",
            " |-- order_status: string (nullable = true)\n",
            " |-- order_purchase_timestamp: string (nullable = true)\n",
            " |-- order_approved_at: string (nullable = true)\n",
            " |-- order_delivered_carrier_date: string (nullable = true)\n",
            " |-- order_delivered_customer_date: string (nullable = true)\n",
            " |-- order_estimated_delivery_date: string (nullable = true)\n",
            "\n"
          ]
        }
      ]
    },
    {
      "cell_type": "code",
      "source": [
        "df_order=df_order.withColumn(\"order_purchase_timestamp\",df_order[\"order_purchase_timestamp\"].cast(\"timestamp\")).withColumn(\"order_approved_at\",df_order[\"order_approved_at\"].cast(\"timestamp\")).withColumn(\"order_delivered_carrier_date\",df_order[\"order_delivered_carrier_date\"].cast(\"timestamp\")).withColumn(\"order_delivered_customer_date\",df_order[\"order_delivered_customer_date\"].cast(\"timestamp\")).withColumn(\"order_estimated_delivery_date\",df_order[\"order_estimated_delivery_date\"].cast(\"timestamp\"))\n",
        "df_order.printSchema()\n",
        "df_order.show(10)"
      ],
      "metadata": {
        "colab": {
          "base_uri": "https://localhost:8080/"
        },
        "id": "ZWNnUPrMBQvq",
        "outputId": "12e84fd3-48a0-4e9b-d009-904cb2597e51"
      },
      "execution_count": 51,
      "outputs": [
        {
          "output_type": "stream",
          "name": "stdout",
          "text": [
            "root\n",
            " |-- order_id: string (nullable = true)\n",
            " |-- customer_id: string (nullable = true)\n",
            " |-- order_status: string (nullable = true)\n",
            " |-- order_purchase_timestamp: timestamp (nullable = true)\n",
            " |-- order_approved_at: timestamp (nullable = true)\n",
            " |-- order_delivered_carrier_date: timestamp (nullable = true)\n",
            " |-- order_delivered_customer_date: timestamp (nullable = true)\n",
            " |-- order_estimated_delivery_date: timestamp (nullable = true)\n",
            "\n",
            "+--------------------+--------------------+------------+------------------------+-------------------+----------------------------+-----------------------------+-----------------------------+\n",
            "|            order_id|         customer_id|order_status|order_purchase_timestamp|  order_approved_at|order_delivered_carrier_date|order_delivered_customer_date|order_estimated_delivery_date|\n",
            "+--------------------+--------------------+------------+------------------------+-------------------+----------------------------+-----------------------------+-----------------------------+\n",
            "|e481f51cbdc54678b...|9ef432eb625129730...|   delivered|     2017-10-02 10:56:33|2017-10-02 11:07:15|         2017-10-10 21:25:13|          2017-10-10 21:25:13|          2017-10-18 00:00:00|\n",
            "|53cdb2fc8bc7dce0b...|b0830fb4747a6c6d2...|   delivered|     2018-07-24 20:41:37|2018-07-26 03:24:27|         2018-08-07 15:27:45|          2018-08-07 15:27:45|          2018-08-13 00:00:00|\n",
            "|47770eb9100c2d0c4...|41ce2a54c0b03bf34...|   delivered|     2018-08-08 08:38:49|2018-08-08 08:55:23|         2018-08-17 18:06:29|          2018-08-17 18:06:29|          2018-09-04 00:00:00|\n",
            "|949d5b44dbf5de918...|f88197465ea7920ad...|   delivered|     2017-11-18 19:28:06|2017-11-18 19:45:59|         2017-12-02 00:28:42|          2017-12-02 00:28:42|          2017-12-15 00:00:00|\n",
            "|ad21c59c0840e6cb8...|8ab97904e6daea886...|   delivered|     2018-02-13 21:18:39|2018-02-13 22:20:29|         2018-02-16 18:17:02|          2018-02-16 18:17:02|          2018-02-26 00:00:00|\n",
            "|a4591c265e18cb1dc...|503740e9ca751ccdd...|   delivered|     2017-07-09 21:57:05|2017-07-09 22:10:13|         2017-07-26 10:57:55|          2017-07-26 10:57:55|          2017-08-01 00:00:00|\n",
            "|136cce7faa42fdb2c...|ed0271e0b7da060a3...|    invoiced|     2017-04-11 12:22:08|2017-04-13 13:25:17|                        NULL|                         NULL|          2017-05-09 00:00:00|\n",
            "|6514b8ad8028c9f2c...|9bdf08b4b3b52b552...|   delivered|     2017-05-16 13:10:30|2017-05-16 13:22:11|         2017-05-26 12:55:51|          2017-05-26 12:55:51|          2017-06-07 00:00:00|\n",
            "|76c6e866289321a7c...|f54a9f0e6b351c431...|   delivered|     2017-01-23 18:29:09|2017-01-25 02:50:47|         2017-02-02 14:08:10|          2017-02-02 14:08:10|          2017-03-06 00:00:00|\n",
            "|e69bfb5eb88e0ed6a...|31ad1d1b63eb99624...|   delivered|     2017-07-29 11:55:02|2017-07-29 12:05:32|         2017-08-16 17:14:30|          2017-08-16 17:14:30|          2017-08-23 00:00:00|\n",
            "+--------------------+--------------------+------------+------------------------+-------------------+----------------------------+-----------------------------+-----------------------------+\n",
            "only showing top 10 rows\n",
            "\n"
          ]
        }
      ]
    },
    {
      "cell_type": "code",
      "source": [
        "df_sales = spark.read.option(\"header\", True).csv(\"sales.csv\")\n",
        "df_sales.show()"
      ],
      "metadata": {
        "colab": {
          "base_uri": "https://localhost:8080/"
        },
        "id": "2zQJYYHBw5OI",
        "outputId": "1f1c65c9-e861-4252-dac1-a0655409a9ae"
      },
      "execution_count": 26,
      "outputs": [
        {
          "output_type": "stream",
          "name": "stdout",
          "text": [
            "+-------+---------+-----------+----------+--------+------------+\n",
            "|sale_id|     date|customer_id|product_id|quantity|total_amount|\n",
            "+-------+---------+-----------+----------+--------+------------+\n",
            "|   S001|6/30/2025|       C001|       101|      10|         180|\n",
            "|   S002|6/30/2025|       C002|       103|       2|         110|\n",
            "+-------+---------+-----------+----------+--------+------------+\n",
            "\n"
          ]
        }
      ]
    },
    {
      "cell_type": "code",
      "source": [
        "df_prod=df_prod.withColumn(\"product_name_lenght\",df_prod[\"product_name_lenght\"].cast(\"int\")).withColumn(\"product_description_lenght\",df_prod[\"product_description_lenght\"].cast(\"int\")).withColumn(\"product_photos_qty\",df_prod[\"product_photos_qty\"].cast(\"int\")).withColumn(\"product_weight_g\",df_prod[\"product_weight_g\"].cast(\"int\")).withColumn(\"product_length_cm\",df_prod[\"product_length_cm\"].cast(\"int\")).withColumn(\"product_height_cm\",df_prod[\"product_height_cm\"].cast(\"int\")).withColumn(\"product_width_cm\",df_prod[\"product_width_cm\"].cast(\"int\"))\n",
        "df_prod.printSchema()"
      ],
      "metadata": {
        "colab": {
          "base_uri": "https://localhost:8080/"
        },
        "id": "-CVqIT1sySgY",
        "outputId": "63db9920-41e9-4f7a-a80d-6aa5bf379b70"
      },
      "execution_count": 47,
      "outputs": [
        {
          "output_type": "stream",
          "name": "stdout",
          "text": [
            "root\n",
            " |-- product_id: string (nullable = true)\n",
            " |-- product_category_name: string (nullable = true)\n",
            " |-- product_name_lenght: integer (nullable = true)\n",
            " |-- product_description_lenght: integer (nullable = true)\n",
            " |-- product_photos_qty: integer (nullable = true)\n",
            " |-- product_weight_g: integer (nullable = true)\n",
            " |-- product_length_cm: integer (nullable = true)\n",
            " |-- product_height_cm: integer (nullable = true)\n",
            " |-- product_width_cm: integer (nullable = true)\n",
            "\n"
          ]
        }
      ]
    },
    {
      "cell_type": "code",
      "source": [
        "df_cust=df_cust.withColumn(\"customer_zip_code_prefix\",df_cust[\"customer_zip_code_prefix\"].cast(\"int\"))\n",
        "# df_cust=df_cust.withColumn(\"loyalty_points\",df_cust[\"loyalty_points\"].cast(\"int\"))\n",
        "df_cust.printSchema()"
      ],
      "metadata": {
        "colab": {
          "base_uri": "https://localhost:8080/"
        },
        "id": "THwIsnGsxasN",
        "outputId": "732eccba-7362-4011-94fc-92637b693ebb"
      },
      "execution_count": 42,
      "outputs": [
        {
          "output_type": "stream",
          "name": "stdout",
          "text": [
            "root\n",
            " |-- customer_id: string (nullable = true)\n",
            " |-- customer_unique_id: string (nullable = true)\n",
            " |-- customer_zip_code_prefix: integer (nullable = true)\n",
            " |-- customer_city: string (nullable = true)\n",
            " |-- customer_state: string (nullable = true)\n",
            "\n"
          ]
        }
      ]
    },
    {
      "cell_type": "code",
      "source": [
        "df_inv=df_inv.withColumn(\"product_id\",df_inv[\"product_id\"].cast(\"int\")).withColumn(\"stock_level\",df_inv[\"stock_level\"].cast(\"int\")).withColumn(\"reorder_threshold\",df_inv[\"reorder_threshold\"].cast(\"int\"))\n",
        "df_inv.printSchema()"
      ],
      "metadata": {
        "colab": {
          "base_uri": "https://localhost:8080/"
        },
        "id": "E6RnVl9My-1S",
        "outputId": "75c91289-da3b-4998-d436-aab2c6e50809"
      },
      "execution_count": 13,
      "outputs": [
        {
          "output_type": "stream",
          "name": "stdout",
          "text": [
            "root\n",
            " |-- product_id: integer (nullable = true)\n",
            " |-- stock_level: integer (nullable = true)\n",
            " |-- reorder_threshold: integer (nullable = true)\n",
            "\n"
          ]
        }
      ]
    },
    {
      "cell_type": "code",
      "source": [
        "from pyspark.sql.functions import to_date, to_timestamp\n",
        "from pyspark.sql.types import IntegerType, DoubleType\n",
        "\n",
        "df_sales = df_sales.withColumn(\"date\", to_timestamp(\"date\", \"M/d/yyyy\").cast(\"date\"))\n",
        "df_sales = df_sales.withColumn(\"quantity\", df_sales[\"quantity\"].cast(IntegerType()))\n",
        "df_sales = df_sales.withColumn(\"total_amount\", df_sales[\"total_amount\"].cast(DoubleType()))\n",
        "\n",
        "df_sales.printSchema()\n",
        "df_sales.show()"
      ],
      "metadata": {
        "colab": {
          "base_uri": "https://localhost:8080/"
        },
        "id": "qhn5zJTJzzwO",
        "outputId": "bc854fd8-d2f1-46b8-ea0c-07f8b746939b"
      },
      "execution_count": 28,
      "outputs": [
        {
          "output_type": "stream",
          "name": "stdout",
          "text": [
            "root\n",
            " |-- sale_id: string (nullable = true)\n",
            " |-- date: date (nullable = true)\n",
            " |-- customer_id: string (nullable = true)\n",
            " |-- product_id: string (nullable = true)\n",
            " |-- quantity: integer (nullable = true)\n",
            " |-- total_amount: double (nullable = true)\n",
            "\n",
            "+-------+----------+-----------+----------+--------+------------+\n",
            "|sale_id|      date|customer_id|product_id|quantity|total_amount|\n",
            "+-------+----------+-----------+----------+--------+------------+\n",
            "|   S001|2025-06-30|       C001|       101|      10|       180.0|\n",
            "|   S002|2025-06-30|       C002|       103|       2|       110.0|\n",
            "+-------+----------+-----------+----------+--------+------------+\n",
            "\n"
          ]
        }
      ]
    },
    {
      "cell_type": "code",
      "source": [
        "df_customer_sales=df_cust.join(df_sales,df_cust.customer_id==df_sales.customer_id,\"left\")\n",
        "df_customer_sales.show()"
      ],
      "metadata": {
        "colab": {
          "base_uri": "https://localhost:8080/"
        },
        "id": "Sflx4Wqoz_qL",
        "outputId": "25a44463-8354-4940-b576-6d985cb28188"
      },
      "execution_count": 32,
      "outputs": [
        {
          "output_type": "stream",
          "name": "stdout",
          "text": [
            "+-----------+------------+-------+--------------+-------+----------+-----------+----------+--------+------------+\n",
            "|customer_id|        name|contact|loyalty_points|sale_id|      date|customer_id|product_id|quantity|total_amount|\n",
            "+-----------+------------+-------+--------------+-------+----------+-----------+----------+--------+------------+\n",
            "|       C001|Anita Sharma|   NULL|           110|   S001|2025-06-30|       C001|       101|      10|       180.0|\n",
            "|       C002| Rahul Mehra|   NULL|            76|   S002|2025-06-30|       C002|       103|       2|       110.0|\n",
            "|       C003|  Sourav Roy|   NULL|            12|   NULL|      NULL|       NULL|      NULL|    NULL|        NULL|\n",
            "+-----------+------------+-------+--------------+-------+----------+-----------+----------+--------+------------+\n",
            "\n"
          ]
        }
      ]
    },
    {
      "cell_type": "code",
      "source": [
        "df_product_sales=df_prod.join(df_sales,df_sales.product_id==df_prod.product_id,\"inner\")\n",
        "df_product_sales.show()"
      ],
      "metadata": {
        "colab": {
          "base_uri": "https://localhost:8080/"
        },
        "id": "-VePW9N62-qS",
        "outputId": "2654fe22-0dd4-4458-9edf-93be44edf907"
      },
      "execution_count": 33,
      "outputs": [
        {
          "output_type": "stream",
          "name": "stdout",
          "text": [
            "+----------+------------+----------+-----+--------+-------+----------+-----------+----------+--------+------------+\n",
            "|product_id|        name|  category|price|supplier|sale_id|      date|customer_id|product_id|quantity|total_amount|\n",
            "+----------+------------+----------+-----+--------+-------+----------+-----------+----------+--------+------------+\n",
            "|       101|Basmati Rice|    Grains|   90|AgroMart|   S001|2025-06-30|       C001|       101|      10|       180.0|\n",
            "|       103| Cooking Oil|Essentials|  110|PureDrop|   S002|2025-06-30|       C002|       103|       2|       110.0|\n",
            "+----------+------------+----------+-----+--------+-------+----------+-----------+----------+--------+------------+\n",
            "\n"
          ]
        }
      ]
    },
    {
      "cell_type": "code",
      "source": [
        "df_inv_sales=df_inv.join(df_sales,df_sales.product_id==df_inv.product_id,\"left\")\n",
        "df_inv_sales.show()"
      ],
      "metadata": {
        "colab": {
          "base_uri": "https://localhost:8080/"
        },
        "id": "iMw79B7s3bL4",
        "outputId": "0514523e-68c5-4fda-c222-e4bf7b7becf0"
      },
      "execution_count": 35,
      "outputs": [
        {
          "output_type": "stream",
          "name": "stdout",
          "text": [
            "+----------+-----------+-----------------+-------+----------+-----------+----------+--------+------------+\n",
            "|product_id|stock_level|reorder_threshold|sale_id|      date|customer_id|product_id|quantity|total_amount|\n",
            "+----------+-----------+-----------------+-------+----------+-----------+----------+--------+------------+\n",
            "|       101|         18|               10|   S001|2025-06-30|       C001|       101|      10|       180.0|\n",
            "|       102|          5|               15|   NULL|      NULL|       NULL|      NULL|    NULL|        NULL|\n",
            "|       103|         10|                8|   S002|2025-06-30|       C002|       103|       2|       110.0|\n",
            "+----------+-----------+-----------------+-------+----------+-----------+----------+--------+------------+\n",
            "\n"
          ]
        }
      ]
    },
    {
      "cell_type": "code",
      "source": [
        "df_full=df_sales.join(df_cust,df_cust.customer_id==df_sales.customer_id,\"left\").join(df_prod,df_prod.product_id==df_sales.product_id,\"left\").join(df_inv,df_inv.product_id==df_sales.product_id,\"left\")\n",
        "df_full.show()"
      ],
      "metadata": {
        "colab": {
          "base_uri": "https://localhost:8080/"
        },
        "id": "okk4aoFd3bIU",
        "outputId": "637c1aa1-2556-409b-db36-770cdfbf0129"
      },
      "execution_count": 36,
      "outputs": [
        {
          "output_type": "stream",
          "name": "stdout",
          "text": [
            "+-------+----------+-----------+----------+--------+------------+-----------+------------+-------+--------------+----------+------------+----------+-----+--------+----------+-----------+-----------------+\n",
            "|sale_id|      date|customer_id|product_id|quantity|total_amount|customer_id|        name|contact|loyalty_points|product_id|        name|  category|price|supplier|product_id|stock_level|reorder_threshold|\n",
            "+-------+----------+-----------+----------+--------+------------+-----------+------------+-------+--------------+----------+------------+----------+-----+--------+----------+-----------+-----------------+\n",
            "|   S001|2025-06-30|       C001|       101|      10|       180.0|       C001|Anita Sharma|   NULL|           110|       101|Basmati Rice|    Grains|   90|AgroMart|       101|         18|               10|\n",
            "|   S002|2025-06-30|       C002|       103|       2|       110.0|       C002| Rahul Mehra|   NULL|            76|       103| Cooking Oil|Essentials|  110|PureDrop|       103|         10|                8|\n",
            "+-------+----------+-----------+----------+--------+------------+-----------+------------+-------+--------------+----------+------------+----------+-----+--------+----------+-----------+-----------------+\n",
            "\n"
          ]
        }
      ]
    }
  ]
}