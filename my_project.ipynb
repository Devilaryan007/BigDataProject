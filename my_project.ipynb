{
  "nbformat": 4,
  "nbformat_minor": 0,
  "metadata": {
    "colab": {
      "provenance": [],
      "authorship_tag": "ABX9TyOFFB3ZtG1V0yurjsBqkyip",
      "include_colab_link": true
    },
    "kernelspec": {
      "name": "python3",
      "display_name": "Python 3"
    },
    "language_info": {
      "name": "python"
    }
  },
  "cells": [
    {
      "cell_type": "markdown",
      "metadata": {
        "id": "view-in-github",
        "colab_type": "text"
      },
      "source": [
        "<a href=\"https://colab.research.google.com/github/Devilaryan007/BigDataProject/blob/main/my_project.ipynb\" target=\"_parent\"><img src=\"https://colab.research.google.com/assets/colab-badge.svg\" alt=\"Open In Colab\"/></a>"
      ]
    },
    {
      "cell_type": "code",
      "execution_count": 7,
      "metadata": {
        "colab": {
          "base_uri": "https://localhost:8080/"
        },
        "id": "qFA4MdSiuEr2",
        "outputId": "1c4df82e-c13b-4ba1-9a6a-439d2040419c"
      },
      "outputs": [
        {
          "output_type": "stream",
          "name": "stdout",
          "text": [
            "+-----------+------------+----------+--------------+\n",
            "|customer_id|        name|   contact|loyalty_points|\n",
            "+-----------+------------+----------+--------------+\n",
            "|       C001|Anita Sharma|9876543210|           110|\n",
            "|       C002| Rahul Mehra|9811122233|            76|\n",
            "|       C003|  Sourav Roy|8918762107|            12|\n",
            "+-----------+------------+----------+--------------+\n",
            "\n",
            "root\n",
            " |-- customer_id: string (nullable = true)\n",
            " |-- name: string (nullable = true)\n",
            " |-- contact: string (nullable = true)\n",
            " |-- loyalty_points: string (nullable = true)\n",
            "\n"
          ]
        }
      ],
      "source": [
        "from pyspark.sql import SparkSession\n",
        "spark = SparkSession.builder.appName(\"ReadCSV\").getOrCreate()\n",
        "df_cust = spark.read.option(\"header\", True).csv(\"customer_dim.csv\")\n",
        "df_cust.show()\n",
        "df_cust.printSchema()\n"
      ]
    },
    {
      "cell_type": "code",
      "source": [
        "df_prod = spark.read.option(\"header\", True).csv(\"product_dim.csv\")\n",
        "df_prod.show()"
      ],
      "metadata": {
        "colab": {
          "base_uri": "https://localhost:8080/"
        },
        "id": "Q9kdZETkwgER",
        "outputId": "4982cf04-0ca0-454a-e371-fea47a1c4b8f"
      },
      "execution_count": 3,
      "outputs": [
        {
          "output_type": "stream",
          "name": "stdout",
          "text": [
            "+----------+------------+------------+-----+----------+\n",
            "|product_id|        name|    category|price|  supplier|\n",
            "+----------+------------+------------+-----+----------+\n",
            "|       101|Basmati Rice|      Grains|   90|  AgroMart|\n",
            "|       102|  Toothpaste|PersonalCare|   45|DailyNeeds|\n",
            "|       103| Cooking Oil|  Essentials|  110|  PureDrop|\n",
            "+----------+------------+------------+-----+----------+\n",
            "\n"
          ]
        }
      ]
    },
    {
      "cell_type": "code",
      "source": [
        "df_inv = spark.read.option(\"header\", True).csv(\"inventory_dim.csv\")\n",
        "df_inv.show()"
      ],
      "metadata": {
        "colab": {
          "base_uri": "https://localhost:8080/"
        },
        "id": "IXkSclUswtYg",
        "outputId": "d9d58596-2d84-4342-fbee-810aa41f9b89"
      },
      "execution_count": 4,
      "outputs": [
        {
          "output_type": "stream",
          "name": "stdout",
          "text": [
            "+----------+-----------+-----------------+\n",
            "|product_id|stock_level|reorder_threshold|\n",
            "+----------+-----------+-----------------+\n",
            "|       101|         18|               10|\n",
            "|       102|          5|               15|\n",
            "|       103|         10|                8|\n",
            "+----------+-----------+-----------------+\n",
            "\n"
          ]
        }
      ]
    },
    {
      "cell_type": "code",
      "source": [
        "df_sales = spark.read.option(\"header\", True).csv(\"sales.csv\")\n",
        "df_sales.show()"
      ],
      "metadata": {
        "colab": {
          "base_uri": "https://localhost:8080/"
        },
        "id": "2zQJYYHBw5OI",
        "outputId": "1f1c65c9-e861-4252-dac1-a0655409a9ae"
      },
      "execution_count": 26,
      "outputs": [
        {
          "output_type": "stream",
          "name": "stdout",
          "text": [
            "+-------+---------+-----------+----------+--------+------------+\n",
            "|sale_id|     date|customer_id|product_id|quantity|total_amount|\n",
            "+-------+---------+-----------+----------+--------+------------+\n",
            "|   S001|6/30/2025|       C001|       101|      10|         180|\n",
            "|   S002|6/30/2025|       C002|       103|       2|         110|\n",
            "+-------+---------+-----------+----------+--------+------------+\n",
            "\n"
          ]
        }
      ]
    },
    {
      "cell_type": "code",
      "source": [
        "df_cust=df_cust.withColumn(\"contact\",df_cust[\"contact\"].cast(\"int\"))\n",
        "df_cust=df_cust.withColumn(\"loyalty_points\",df_cust[\"loyalty_points\"].cast(\"int\"))\n",
        "df_cust.printSchema()"
      ],
      "metadata": {
        "colab": {
          "base_uri": "https://localhost:8080/"
        },
        "id": "THwIsnGsxasN",
        "outputId": "5a1c5ffe-7e38-49f8-f20e-e3c98edd394d"
      },
      "execution_count": 11,
      "outputs": [
        {
          "output_type": "stream",
          "name": "stdout",
          "text": [
            "root\n",
            " |-- customer_id: string (nullable = true)\n",
            " |-- name: string (nullable = true)\n",
            " |-- contact: integer (nullable = true)\n",
            " |-- loyalty_points: integer (nullable = true)\n",
            "\n"
          ]
        }
      ]
    },
    {
      "cell_type": "code",
      "source": [
        "df_prod=df_prod.withColumn(\"price\",df_prod[\"price\"].cast(\"int\")).withColumn(\"product_id\",df_prod[\"product_id\"].cast(\"int\"))\n",
        "df_prod.printSchema()"
      ],
      "metadata": {
        "colab": {
          "base_uri": "https://localhost:8080/"
        },
        "id": "-CVqIT1sySgY",
        "outputId": "0803dd71-d063-45bf-ec55-3935999ab6ef"
      },
      "execution_count": 12,
      "outputs": [
        {
          "output_type": "stream",
          "name": "stdout",
          "text": [
            "root\n",
            " |-- product_id: integer (nullable = true)\n",
            " |-- name: string (nullable = true)\n",
            " |-- category: string (nullable = true)\n",
            " |-- price: integer (nullable = true)\n",
            " |-- supplier: string (nullable = true)\n",
            "\n"
          ]
        }
      ]
    },
    {
      "cell_type": "code",
      "source": [
        "df_inv=df_inv.withColumn(\"product_id\",df_inv[\"product_id\"].cast(\"int\")).withColumn(\"stock_level\",df_inv[\"stock_level\"].cast(\"int\")).withColumn(\"reorder_threshold\",df_inv[\"reorder_threshold\"].cast(\"int\"))\n",
        "df_inv.printSchema()"
      ],
      "metadata": {
        "colab": {
          "base_uri": "https://localhost:8080/"
        },
        "id": "E6RnVl9My-1S",
        "outputId": "75c91289-da3b-4998-d436-aab2c6e50809"
      },
      "execution_count": 13,
      "outputs": [
        {
          "output_type": "stream",
          "name": "stdout",
          "text": [
            "root\n",
            " |-- product_id: integer (nullable = true)\n",
            " |-- stock_level: integer (nullable = true)\n",
            " |-- reorder_threshold: integer (nullable = true)\n",
            "\n"
          ]
        }
      ]
    },
    {
      "cell_type": "code",
      "source": [
        "from pyspark.sql.functions import to_date, to_timestamp\n",
        "from pyspark.sql.types import IntegerType, DoubleType\n",
        "\n",
        "df_sales = df_sales.withColumn(\"date\", to_timestamp(\"date\", \"M/d/yyyy\").cast(\"date\"))\n",
        "df_sales = df_sales.withColumn(\"quantity\", df_sales[\"quantity\"].cast(IntegerType()))\n",
        "df_sales = df_sales.withColumn(\"total_amount\", df_sales[\"total_amount\"].cast(DoubleType()))\n",
        "\n",
        "df_sales.printSchema()\n",
        "df_sales.show()"
      ],
      "metadata": {
        "colab": {
          "base_uri": "https://localhost:8080/"
        },
        "id": "qhn5zJTJzzwO",
        "outputId": "bc854fd8-d2f1-46b8-ea0c-07f8b746939b"
      },
      "execution_count": 28,
      "outputs": [
        {
          "output_type": "stream",
          "name": "stdout",
          "text": [
            "root\n",
            " |-- sale_id: string (nullable = true)\n",
            " |-- date: date (nullable = true)\n",
            " |-- customer_id: string (nullable = true)\n",
            " |-- product_id: string (nullable = true)\n",
            " |-- quantity: integer (nullable = true)\n",
            " |-- total_amount: double (nullable = true)\n",
            "\n",
            "+-------+----------+-----------+----------+--------+------------+\n",
            "|sale_id|      date|customer_id|product_id|quantity|total_amount|\n",
            "+-------+----------+-----------+----------+--------+------------+\n",
            "|   S001|2025-06-30|       C001|       101|      10|       180.0|\n",
            "|   S002|2025-06-30|       C002|       103|       2|       110.0|\n",
            "+-------+----------+-----------+----------+--------+------------+\n",
            "\n"
          ]
        }
      ]
    },
    {
      "cell_type": "code",
      "source": [
        "df_customer_sales=df_cust.join(df_sales,df_cust.customer_id==df_sales.customer_id,\"left\")\n",
        "df_customer_sales.show()"
      ],
      "metadata": {
        "colab": {
          "base_uri": "https://localhost:8080/"
        },
        "id": "Sflx4Wqoz_qL",
        "outputId": "25a44463-8354-4940-b576-6d985cb28188"
      },
      "execution_count": 32,
      "outputs": [
        {
          "output_type": "stream",
          "name": "stdout",
          "text": [
            "+-----------+------------+-------+--------------+-------+----------+-----------+----------+--------+------------+\n",
            "|customer_id|        name|contact|loyalty_points|sale_id|      date|customer_id|product_id|quantity|total_amount|\n",
            "+-----------+------------+-------+--------------+-------+----------+-----------+----------+--------+------------+\n",
            "|       C001|Anita Sharma|   NULL|           110|   S001|2025-06-30|       C001|       101|      10|       180.0|\n",
            "|       C002| Rahul Mehra|   NULL|            76|   S002|2025-06-30|       C002|       103|       2|       110.0|\n",
            "|       C003|  Sourav Roy|   NULL|            12|   NULL|      NULL|       NULL|      NULL|    NULL|        NULL|\n",
            "+-----------+------------+-------+--------------+-------+----------+-----------+----------+--------+------------+\n",
            "\n"
          ]
        }
      ]
    },
    {
      "cell_type": "code",
      "source": [
        "df_product_sales=df_prod.join(df_sales,df_sales.product_id==df_prod.product_id,\"inner\")\n",
        "df_product_sales.show()"
      ],
      "metadata": {
        "colab": {
          "base_uri": "https://localhost:8080/"
        },
        "id": "-VePW9N62-qS",
        "outputId": "2654fe22-0dd4-4458-9edf-93be44edf907"
      },
      "execution_count": 33,
      "outputs": [
        {
          "output_type": "stream",
          "name": "stdout",
          "text": [
            "+----------+------------+----------+-----+--------+-------+----------+-----------+----------+--------+------------+\n",
            "|product_id|        name|  category|price|supplier|sale_id|      date|customer_id|product_id|quantity|total_amount|\n",
            "+----------+------------+----------+-----+--------+-------+----------+-----------+----------+--------+------------+\n",
            "|       101|Basmati Rice|    Grains|   90|AgroMart|   S001|2025-06-30|       C001|       101|      10|       180.0|\n",
            "|       103| Cooking Oil|Essentials|  110|PureDrop|   S002|2025-06-30|       C002|       103|       2|       110.0|\n",
            "+----------+------------+----------+-----+--------+-------+----------+-----------+----------+--------+------------+\n",
            "\n"
          ]
        }
      ]
    },
    {
      "cell_type": "code",
      "source": [
        "df_inv_sales=df_inv.join(df_sales,df_sales.product_id==df_inv.product_id,\"left\")\n",
        "df_inv_sales.show()"
      ],
      "metadata": {
        "colab": {
          "base_uri": "https://localhost:8080/"
        },
        "id": "iMw79B7s3bL4",
        "outputId": "0514523e-68c5-4fda-c222-e4bf7b7becf0"
      },
      "execution_count": 35,
      "outputs": [
        {
          "output_type": "stream",
          "name": "stdout",
          "text": [
            "+----------+-----------+-----------------+-------+----------+-----------+----------+--------+------------+\n",
            "|product_id|stock_level|reorder_threshold|sale_id|      date|customer_id|product_id|quantity|total_amount|\n",
            "+----------+-----------+-----------------+-------+----------+-----------+----------+--------+------------+\n",
            "|       101|         18|               10|   S001|2025-06-30|       C001|       101|      10|       180.0|\n",
            "|       102|          5|               15|   NULL|      NULL|       NULL|      NULL|    NULL|        NULL|\n",
            "|       103|         10|                8|   S002|2025-06-30|       C002|       103|       2|       110.0|\n",
            "+----------+-----------+-----------------+-------+----------+-----------+----------+--------+------------+\n",
            "\n"
          ]
        }
      ]
    },
    {
      "cell_type": "code",
      "source": [
        "df_full=df_sales.join(df_cust,df_cust.customer_id==df_sales.customer_id,\"left\").join(df_prod,df_prod.product_id==df_sales.product_id,\"left\").join(df_inv,df_inv.product_id==df_sales.product_id,\"left\")\n",
        "df_full.show()"
      ],
      "metadata": {
        "colab": {
          "base_uri": "https://localhost:8080/"
        },
        "id": "okk4aoFd3bIU",
        "outputId": "637c1aa1-2556-409b-db36-770cdfbf0129"
      },
      "execution_count": 36,
      "outputs": [
        {
          "output_type": "stream",
          "name": "stdout",
          "text": [
            "+-------+----------+-----------+----------+--------+------------+-----------+------------+-------+--------------+----------+------------+----------+-----+--------+----------+-----------+-----------------+\n",
            "|sale_id|      date|customer_id|product_id|quantity|total_amount|customer_id|        name|contact|loyalty_points|product_id|        name|  category|price|supplier|product_id|stock_level|reorder_threshold|\n",
            "+-------+----------+-----------+----------+--------+------------+-----------+------------+-------+--------------+----------+------------+----------+-----+--------+----------+-----------+-----------------+\n",
            "|   S001|2025-06-30|       C001|       101|      10|       180.0|       C001|Anita Sharma|   NULL|           110|       101|Basmati Rice|    Grains|   90|AgroMart|       101|         18|               10|\n",
            "|   S002|2025-06-30|       C002|       103|       2|       110.0|       C002| Rahul Mehra|   NULL|            76|       103| Cooking Oil|Essentials|  110|PureDrop|       103|         10|                8|\n",
            "+-------+----------+-----------+----------+--------+------------+-----------+------------+-------+--------------+----------+------------+----------+-----+--------+----------+-----------+-----------------+\n",
            "\n"
          ]
        }
      ]
    }
  ]
}